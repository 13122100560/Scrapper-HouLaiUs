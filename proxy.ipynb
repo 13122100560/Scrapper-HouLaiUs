{
 "cells": [
  {
   "cell_type": "markdown",
   "metadata": {},
   "source": [
    "# 爬取代理IP\n",
    "本爬虫是用来爬取位于[西刺网](http://www.xicidaili.com/)上的代理IP，使用*requests*爬取网站内容并通过*re*匹配代理ip，最终将结果保存到proxies.csv中。"
   ]
  },
  {
   "cell_type": "code",
   "execution_count": 1,
   "metadata": {},
   "outputs": [],
   "source": [
    "import requests\n",
    "import re\n",
    "import pandas as pd\n",
    "\n",
    "\n",
    "url = 'http://www.xicidaili.com/'\n",
    "cookie = {\n",
    "    'Cookie': '_free_proxy_session=BAh7B0kiD3Nlc3Npb25faWQGOgZFVEkiJTAwMTNiMmQ5MGQ0NGMzMzFkNzk0ZmE4ODk4MmMzMzEyBjsAVEkiEF9jc3JmX3Rva2VuBjsARkkiMXBXK0NNcHRENlhVUUh1YTFQTXYvUE1qdmJCaklYalJtbGFFME56MU84Ulk9BjsARg%3D%3D--7deda3a0bc1e4e26c36fb37dfeb5caf7003df150; Hm_lvt_0cf76c77469e965d2957f0553e6ecf59=1525346941; Hm_lpvt_0cf76c77469e965d2957f0553e6ecf59=1525347052'\n",
    "}\n",
    "\n",
    "useragent = {\n",
    "    'User-Agent':'Mozilla/5.0 (Windows NT 10.0; Win64; x64) AppleWebKit/537.36 (KHTML, like Gecko) Chrome/66.0.3359.139 Safari/537.36'\n",
    "}"
   ]
  },
  {
   "cell_type": "markdown",
   "metadata": {},
   "source": [
    "## 爬取网页内容"
   ]
  },
  {
   "cell_type": "code",
   "execution_count": 9,
   "metadata": {},
   "outputs": [],
   "source": [
    "response = requests.get(url, cookies = cookie, headers = useragent)\n",
    "content = response.text.replace(\"\\n\", '').replace(\" \", '')"
   ]
  },
  {
   "cell_type": "markdown",
   "metadata": {},
   "source": [
    "可以打印出爬取的网页内容以及返回的状态码查看是否爬取成功"
   ]
  },
  {
   "cell_type": "code",
   "execution_count": 10,
   "metadata": {},
   "outputs": [
    {
     "name": "stdout",
     "output_type": "stream",
     "text": [
      "<!DOCTYPEhtml><html><head><title>免费代理IP_HTTP代理服务器IP_隐藏IP_QQ代理_国内外代理_西刺免费代理IP</title><metahttp-equiv=\n"
     ]
    },
    {
     "data": {
      "text/plain": [
       "200"
      ]
     },
     "execution_count": 10,
     "metadata": {},
     "output_type": "execute_result"
    }
   ],
   "source": [
    "print(content[:100])\n",
    "response.status_code"
   ]
  },
  {
   "cell_type": "markdown",
   "metadata": {},
   "source": [
    "可以将网页内容保存到txt文本查看全部内容，需要注意的是加上`encoding = 'utf-8-sig'`确保不会出现中文乱码（虽然这里没用中文 :)）"
   ]
  },
  {
   "cell_type": "code",
   "execution_count": 3,
   "metadata": {},
   "outputs": [],
   "source": [
    "with open('proxiesPage.txt', 'a+', encoding = 'utf-8-sig') as proxyfile:\n",
    "    proxyfile.write(content)"
   ]
  },
  {
   "cell_type": "markdown",
   "metadata": {},
   "source": [
    "## 正则表达式匹配IP\n",
    "需要注意的是这里我们需要IP，IP的端口，以及使用的协议类型（*HTTP*, *HTTPS*）"
   ]
  },
  {
   "cell_type": "code",
   "execution_count": 4,
   "metadata": {},
   "outputs": [],
   "source": [
    "ipPattern = re.compile(r'((?:(?:25[0-5]|2[0-4]\\d|(?:1\\d{2}|[1-9]?\\d))\\.){3}(?:25[0-5]|2[0-4]\\d|(?:1\\d{2}|[1-9]?\\d))).*?<td>(\\d*?)</td>.*?<tdclass=\"country\">.*?</td><td>(HTTP.*?)</td>?')\n",
    "proxies = re.findall(ipPattern, content)"
   ]
  },
  {
   "cell_type": "markdown",
   "metadata": {},
   "source": [
    "## 将代理IP信息保存到csv文件中"
   ]
  },
  {
   "cell_type": "code",
   "execution_count": 7,
   "metadata": {},
   "outputs": [],
   "source": [
    "df = pd.DataFrame(proxies, columns=['ip', 'port', 'type'])\n",
    "df.to_csv('proxies.csv', encoding='utf-8-sig')"
   ]
  }
 ],
 "metadata": {
  "kernelspec": {
   "display_name": "Python 3",
   "language": "python",
   "name": "python3"
  },
  "language_info": {
   "codemirror_mode": {
    "name": "ipython",
    "version": 3
   },
   "file_extension": ".py",
   "mimetype": "text/x-python",
   "name": "python",
   "nbconvert_exporter": "python",
   "pygments_lexer": "ipython3",
   "version": "3.5.2"
  }
 },
 "nbformat": 4,
 "nbformat_minor": 2
}
